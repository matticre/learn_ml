{
 "cells": [
  {
   "cell_type": "code",
   "execution_count": 1,
   "id": "bc97130d-99d9-4c4c-83ce-ca1bd7bc76a1",
   "metadata": {
    "tags": []
   },
   "outputs": [],
   "source": [
    "import torch\n",
    "from torch import nn\n",
    "from sklearn.model_selection import train_test_split\n",
    "\n",
    "import matplotlib.pyplot as plt"
   ]
  },
  {
   "cell_type": "code",
   "execution_count": 2,
   "id": "38b7d1a6-0a9d-44d5-83c8-26ab7a895960",
   "metadata": {
    "tags": []
   },
   "outputs": [],
   "source": [
    "#linear function parameters\n",
    "weight = 0.7\n",
    "bias   = 0.3\n",
    "\n",
    "#creation of datas\n",
    "start = 0\n",
    "end   = 1\n",
    "step  = 0.02\n",
    "\n",
    "x = torch.arange(start, end, step).unsqueeze(dim=1)\n",
    "y = weight * x + bias\n",
    "\n",
    "x_train, x_test, y_train, y_test = train_test_split(x, y, test_size=0.33, random_state=10)"
   ]
  },
  {
   "cell_type": "code",
   "execution_count": 3,
   "id": "bb034fc0-3cb9-4dd4-981c-3a86b22ce05e",
   "metadata": {
    "tags": []
   },
   "outputs": [],
   "source": [
    "def plot_predictions(train_data   = x_train,\n",
    "                     train_labels = y_train,\n",
    "                     test_data    = x_test,\n",
    "                     test_labels  = y_test,\n",
    "                     predictions  = None):\n",
    "    \n",
    "    plt.scatter(train_data, train_labels, c=\"b\", label=\"Training data\")\n",
    "    plt.scatter(test_data, test_labels, c=\"g\", label=\"Test data\")\n",
    "\n",
    "    if predictions is not None:\n",
    "        plt.scatter(test_data, predictions, c=\"r\", label=\"Predictions\")\n",
    "\n",
    "    plt.legend(prop={\"size\" : 14})"
   ]
  },
  {
   "cell_type": "code",
   "execution_count": null,
   "id": "c3ce2092-7c46-4e30-bdb4-6da1bb5ef565",
   "metadata": {},
   "outputs": [],
   "source": []
  }
 ],
 "metadata": {
  "kernelspec": {
   "display_name": "Python 3 (ipykernel)",
   "language": "python",
   "name": "python3"
  },
  "language_info": {
   "codemirror_mode": {
    "name": "ipython",
    "version": 3
   },
   "file_extension": ".py",
   "mimetype": "text/x-python",
   "name": "python",
   "nbconvert_exporter": "python",
   "pygments_lexer": "ipython3",
   "version": "3.11.5"
  }
 },
 "nbformat": 4,
 "nbformat_minor": 5
}
